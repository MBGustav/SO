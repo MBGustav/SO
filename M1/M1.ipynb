{
 "cells": [
  {
   "attachments": {},
   "cell_type": "markdown",
   "metadata": {},
   "source": [
    "# Introdução a Sistemas Operacionais\n"
   ]
  },
  {
   "attachments": {},
   "cell_type": "markdown",
   "metadata": {},
   "source": [
    "## Oque é Sistema Operacional? \n",
    "Sistema operacional tem por objetivo intermediar usuário e hardware, além de abstrair diversas atividades de modo a simplificar as interações também com tarefas, arquivos e informações e sockets.\n",
    "\n",
    "As linguagens de programação é um exemplo de interação que pode ocorrer entre Sist. Operacional e Hardware. Um comando de leitura `read` abstrai diversas operações decorrentes na unidade de disco rígido, movimentação de palheta, locação de blocagem e outras funçoes extremamente complexas."
   ]
  },
  {
   "cell_type": "markdown",
   "metadata": {},
   "source": []
  }
 ],
 "metadata": {
  "language_info": {
   "name": "python"
  },
  "orig_nbformat": 4
 },
 "nbformat": 4,
 "nbformat_minor": 2
}
